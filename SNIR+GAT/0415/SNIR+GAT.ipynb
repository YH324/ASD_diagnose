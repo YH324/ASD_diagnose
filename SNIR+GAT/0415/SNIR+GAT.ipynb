{
 "cells": [
  {
   "cell_type": "markdown",
   "id": "8fd7b3ee-7548-4040-89f9-d5cf33d07510",
   "metadata": {},
   "source": [
    "# SNIR+GAT\n",
    "- 任务1：跨个体估计任务特定的脑区影响因子 $\\rho_j$\n",
    "- 任务2：使用 $\\rho_j$ 调节GAT架构（暂时从偏置入手），做多任务预测（集中`SRS量表`）\n",
    "\n",
    "> 数据基于`hx`"
   ]
  },
  {
   "cell_type": "markdown",
   "id": "86c7e96c-7018-48a1-b174-2d91a5458e5b",
   "metadata": {
    "tags": []
   },
   "source": [
    "## 任务1-跨个体估计任务特定的脑区影响因子 $\\rho_j$"
   ]
  },
  {
   "cell_type": "markdown",
   "id": "ffb3690e-7d95-4e1f-b7f7-22c65c67bd1a",
   "metadata": {},
   "source": [
    "1. 依赖包和路径"
   ]
  },
  {
   "cell_type": "code",
   "execution_count": 1,
   "id": "25e95052-75b0-4303-9e0d-490d9e140bf5",
   "metadata": {},
   "outputs": [],
   "source": [
    "import os\n",
    "import numpy as np\n",
    "import pandas as pd\n",
    "from sklearn.linear_model import LassoCV\n",
    "from sklearn.preprocessing import StandardScaler\n",
    "import matplotlib.pyplot as plt\n",
    "\n",
    "DATA_DIR = 'hx/'  # 存放 FC 矩阵的路径\n",
    "INFO_PATH = 'hxinfo.csv'\n",
    "NODE_INFO_PATH = 'x_dosenbach.csv'\n",
    "\n",
    "# 回归目标（可以替换为 SRS_awareness 等）\n",
    "TARGET_COL = 'SRS_mannerisms'\n",
    "\n",
    "# 正则化参数搜索范围\n",
    "ALPHA_GRID = np.logspace(-4, 1, 30)"
   ]
  },
  {
   "cell_type": "markdown",
   "id": "197c20d0-78a7-47df-93ce-4327fc1d255b",
   "metadata": {},
   "source": [
    "2. 表型信息读取+ID提取"
   ]
  },
  {
   "cell_type": "code",
   "execution_count": 2,
   "id": "23d8b37e-1f34-4027-82b8-38901a7f6416",
   "metadata": {},
   "outputs": [
    {
     "name": "stdout",
     "output_type": "stream",
     "text": [
      "共读取被试数量: 218\n",
      "包含目标 SRS_mannerisms 的有效被试数: 218\n"
     ]
    }
   ],
   "source": [
    "info_df = pd.read_csv(INFO_PATH)\n",
    "print(f\"共读取被试数量: {len(info_df)}\")\n",
    "\n",
    "# 选定目标列作为 y\n",
    "y_all = info_df[[TARGET_COL, 'ID']].dropna()\n",
    "y_all = y_all.reset_index(drop=True)\n",
    "print(f\"包含目标 {TARGET_COL} 的有效被试数: {len(y_all)}\")\n",
    "\n",
    "# 将 ID 匹配为 z<ID>.txt 文件路径\n",
    "y_all['A_path'] = y_all['ID'].apply(lambda x: os.path.join(DATA_DIR, f'z{x}.txt'))"
   ]
  },
  {
   "cell_type": "markdown",
   "id": "7f108a86-48a8-41d7-a310-d5af797820fb",
   "metadata": {},
   "source": [
    "3. 节点特征Y（暂时取静态结构特征）"
   ]
  },
  {
   "cell_type": "code",
   "execution_count": 3,
   "id": "bf9860fd-bd8c-439b-86c5-3c0013c254f3",
   "metadata": {},
   "outputs": [],
   "source": [
    "node_df = pd.read_csv(NODE_INFO_PATH)\n",
    "Y_xyz = node_df[['x(mm)', 'y(mm)', 'z(mm)']].values.astype(float)  # shape: (160, 3)\n",
    "\n",
    "# 标准化静态特征\n",
    "scaler_y = StandardScaler()\n",
    "Y_xyz_std = scaler_y.fit_transform(Y_xyz)"
   ]
  },
  {
   "cell_type": "markdown",
   "id": "2300c73b-3795-45ad-8c3b-ffd1ba2ce162",
   "metadata": {},
   "source": [
    "4. Z构造（传播响应）\n",
    "    - 每个被试 Z = A * enriched_Y\n",
    "    - enriched_Y = \\[xyz_std + subnet_onehot\\]（拼接中心坐标与子网络one-hot）"
   ]
  },
  {
   "cell_type": "code",
   "execution_count": 4,
   "id": "beaffdbd-ef25-4496-a9a5-aafe2cc92171",
   "metadata": {},
   "outputs": [
    {
     "name": "stdout",
     "output_type": "stream",
     "text": [
      "跳过 ASD1013，读取失败: hx/zASD1013.txt not found.\n",
      "跳过 ASD1018 ，读取失败: hx/zASD1018 .txt not found.\n",
      "跳过 ASD1051，读取失败: hx/zASD1051.txt not found.\n",
      "跳过 ASD1075，读取失败: hx/zASD1075.txt not found.\n",
      "跳过 ASD1112，读取失败: hx/zASD1112.txt not found.\n",
      "跳过 ASD1115，读取失败: hx/zASD1115.txt not found.\n",
      "跳过 ASD1125，读取失败: hx/zASD1125.txt not found.\n",
      "跳过 ASD1132，读取失败: hx/zASD1132.txt not found.\n",
      "跳过 ASD1133，读取失败: hx/zASD1133.txt not found.\n",
      "跳过 ASD1145，读取失败: hx/zASD1145.txt not found.\n",
      "跳过 ASD1147，读取失败: hx/zASD1147.txt not found.\n",
      "跳过 ASD1149，读取失败: hx/zASD1149.txt not found.\n",
      "跳过 ASD1150，读取失败: hx/zASD1150.txt not found.\n",
      "跳过 TD139，读取失败: hx/zTD139.txt not found.\n",
      "跳过 TD208，读取失败: hx/zTD208.txt not found.\n",
      "跳过 TD226，读取失败: hx/zTD226.txt not found.\n",
      "跳过 TD249，读取失败: hx/zTD249.txt not found.\n",
      "成功处理样本数量: 201\n"
     ]
    }
   ],
   "source": [
    "# 提取子网 one-hot 编码\n",
    "subnet_onehot = pd.get_dummies(node_df['Subnetwork'])  # shape: (160, 6)\n",
    "Y_enriched = np.concatenate([Y_xyz_std, subnet_onehot.values], axis=1)  # shape: (160, 9)\n",
    "\n",
    "Z_list = []\n",
    "valid_ids = []\n",
    "for idx, row in y_all.iterrows():\n",
    "    try:\n",
    "        A = np.loadtxt(row['A_path'])\n",
    "        if A.shape != (160, 160):\n",
    "            print(f\"跳过 {row['ID']}，尺寸不符: {A.shape}\")\n",
    "            continue\n",
    "        Z = A @ Y_enriched       # shape: (160, 9)\n",
    "        Z_flat = Z.flatten()     # shape: (160 * 9 = 1440,)\n",
    "        Z_list.append(Z_flat)\n",
    "        valid_ids.append(row['ID'])\n",
    "    except Exception as e:\n",
    "        print(f\"跳过 {row['ID']}，读取失败: {e}\")\n",
    "\n",
    "Z_all = np.stack(Z_list, axis=0)  # shape: (M, 1440)\n",
    "print(f\"成功处理样本数量: {len(Z_all)}\")"
   ]
  },
  {
   "cell_type": "markdown",
   "id": "359bc2c5-f57e-4938-97a9-7495c29ddca4",
   "metadata": {},
   "source": [
    "5. Lasso估计$\\rho_j$"
   ]
  },
  {
   "cell_type": "code",
   "execution_count": 5,
   "id": "e24154e0-84cc-461c-8cfd-dd1f51245eab",
   "metadata": {},
   "outputs": [
    {
     "name": "stdout",
     "output_type": "stream",
     "text": [
      "Lasso 回归完成\n"
     ]
    }
   ],
   "source": [
    "# 提取匹配的 y\n",
    "y_final = y_all[y_all['ID'].isin(valid_ids)][TARGET_COL].values\n",
    "\n",
    "# 标准化\n",
    "scaler_z = StandardScaler()\n",
    "Z_scaled = scaler_z.fit_transform(Z_all)\n",
    "y_scaled = (y_final - y_final.mean()) / y_final.std()\n",
    "\n",
    "# LassoCV 自动调参\n",
    "lasso = LassoCV(alphas=ALPHA_GRID, cv=5, max_iter=10000)\n",
    "lasso.fit(Z_scaled, y_scaled)\n",
    "rho_hat = lasso.coef_  # shape: (160,)\n",
    "print(\"Lasso 回归完成\")"
   ]
  },
  {
   "cell_type": "markdown",
   "id": "6a898194-ac73-46e2-a6e1-385dfe6405b3",
   "metadata": {},
   "source": [
    "6. output & visualization"
   ]
  },
  {
   "cell_type": "code",
   "execution_count": 6,
   "id": "33466140-3fdf-4f1f-9f61-936e17cf0dc6",
   "metadata": {},
   "outputs": [
    {
     "name": "stdout",
     "output_type": "stream",
     "text": [
      "Top 10 影响脑区：\n"
     ]
    },
    {
     "data": {
      "text/html": [
       "<div>\n",
       "<style scoped>\n",
       "    .dataframe tbody tr th:only-of-type {\n",
       "        vertical-align: middle;\n",
       "    }\n",
       "\n",
       "    .dataframe tbody tr th {\n",
       "        vertical-align: top;\n",
       "    }\n",
       "\n",
       "    .dataframe thead th {\n",
       "        text-align: right;\n",
       "    }\n",
       "</style>\n",
       "<table border=\"1\" class=\"dataframe\">\n",
       "  <thead>\n",
       "    <tr style=\"text-align: right;\">\n",
       "      <th></th>\n",
       "      <th>Labels</th>\n",
       "      <th>Regions</th>\n",
       "      <th>Hemishpere</th>\n",
       "      <th>rho</th>\n",
       "    </tr>\n",
       "  </thead>\n",
       "  <tbody>\n",
       "    <tr>\n",
       "      <th>49</th>\n",
       "      <td>50</td>\n",
       "      <td>post parietal</td>\n",
       "      <td>L</td>\n",
       "      <td>0.125433</td>\n",
       "    </tr>\n",
       "    <tr>\n",
       "      <th>75</th>\n",
       "      <td>76</td>\n",
       "      <td>post insula</td>\n",
       "      <td>L</td>\n",
       "      <td>0.064527</td>\n",
       "    </tr>\n",
       "    <tr>\n",
       "      <th>2</th>\n",
       "      <td>3</td>\n",
       "      <td>aPFC</td>\n",
       "      <td>L</td>\n",
       "      <td>0.058287</td>\n",
       "    </tr>\n",
       "    <tr>\n",
       "      <th>0</th>\n",
       "      <td>1</td>\n",
       "      <td>vmPFC</td>\n",
       "      <td>R</td>\n",
       "      <td>0.049091</td>\n",
       "    </tr>\n",
       "    <tr>\n",
       "      <th>21</th>\n",
       "      <td>22</td>\n",
       "      <td>precuneus</td>\n",
       "      <td>R</td>\n",
       "      <td>0.048712</td>\n",
       "    </tr>\n",
       "    <tr>\n",
       "      <th>63</th>\n",
       "      <td>64</td>\n",
       "      <td>mFC</td>\n",
       "      <td>NaN</td>\n",
       "      <td>0.045387</td>\n",
       "    </tr>\n",
       "    <tr>\n",
       "      <th>156</th>\n",
       "      <td>157</td>\n",
       "      <td>med cerebellum</td>\n",
       "      <td>R</td>\n",
       "      <td>0.044809</td>\n",
       "    </tr>\n",
       "    <tr>\n",
       "      <th>92</th>\n",
       "      <td>93</td>\n",
       "      <td>SMA</td>\n",
       "      <td>NaN</td>\n",
       "      <td>0.036287</td>\n",
       "    </tr>\n",
       "    <tr>\n",
       "      <th>130</th>\n",
       "      <td>131</td>\n",
       "      <td>occipital</td>\n",
       "      <td>L</td>\n",
       "      <td>0.033507</td>\n",
       "    </tr>\n",
       "    <tr>\n",
       "      <th>119</th>\n",
       "      <td>120</td>\n",
       "      <td>sup parietal</td>\n",
       "      <td>R</td>\n",
       "      <td>0.021764</td>\n",
       "    </tr>\n",
       "  </tbody>\n",
       "</table>\n",
       "</div>"
      ],
      "text/plain": [
       "     Labels           Regions Hemishpere       rho\n",
       "49       50  post parietal             L  0.125433\n",
       "75       76  post insula               L  0.064527\n",
       "2         3  aPFC                      L  0.058287\n",
       "0         1  vmPFC                     R  0.049091\n",
       "21       22  precuneus                 R  0.048712\n",
       "63       64  mFC                     NaN  0.045387\n",
       "156     157  med cerebellum            R  0.044809\n",
       "92       93  SMA                     NaN  0.036287\n",
       "130     131  occipital                 L  0.033507\n",
       "119     120  sup parietal              R  0.021764"
      ]
     },
     "metadata": {},
     "output_type": "display_data"
    },
    {
     "data": {
      "image/png": "[encoded data removed]",
      "text/plain": [
       "<Figure size 864x288 with 1 Axes>"
      ]
     },
     "metadata": {
      "needs_background": "light"
     },
     "output_type": "display_data"
    }
   ],
   "source": [
    "np.save('rho_estimate.npy', rho_hat)\n",
    "\n",
    "# 排序并显示 top 10 ROI\n",
    "\n",
    "rho_matrix = rho_hat.reshape(160, 9)  # 恢复成原 shape\n",
    "rho_roi = np.linalg.norm(rho_matrix, axis=1)  # 每个 ROI 的重要性\n",
    "node_df['rho'] = rho_roi\n",
    "\n",
    "node_df_sorted = node_df.sort_values('rho', key=abs, ascending=False)\n",
    "print(\"Top 10 影响脑区：\")\n",
    "display(node_df_sorted[['Labels', 'Regions', 'Hemishpere', 'rho']].head(10))\n",
    "\n",
    "# 可视化\n",
    "plt.figure(figsize=(12, 4))\n",
    "plt.bar(np.arange(160), rho_roi)\n",
    "plt.xlabel('ROI Index')\n",
    "plt.ylabel('Estimated Influence (rho)')\n",
    "plt.title(f'Task-Relevant ROI Importance for {TARGET_COL}')\n",
    "plt.grid(True)\n",
    "plt.tight_layout()\n",
    "plt.show()"
   ]
  },
  {
   "cell_type": "code",
   "execution_count": null,
   "id": "70717119-3424-4724-bf05-b7297bdc3c9d",
   "metadata": {},
   "outputs": [],
   "source": []
  },
  {
   "cell_type": "code",
   "execution_count": 10,
   "id": "0964c1e5-fdae-4062-845e-4c60693505f6",
   "metadata": {},
   "outputs": [
    {
     "name": "stdout",
     "output_type": "stream",
     "text": [
      "├── .ipynb_checkpoints\n",
      "│   ├── config-checkpoint.py\n",
      "│   └── run_task2-checkpoint.py\n",
      "├── config.py\n",
      "├── data\n",
      "├── models\n",
      "│   ├── .ipynb_checkpoints\n",
      "│   │   ├── rho_adjusted_gat-checkpoint.py\n",
      "│   │   └── vanilla_gat-checkpoint.py\n",
      "│   ├── rho_adjusted_gat.py\n",
      "│   └── vanilla_gat.py\n",
      "├── results\n",
      "├── run_task2.py\n",
      "├── train\n",
      "│   ├── .ipynb_checkpoints\n",
      "│   │   ├── evaluate-checkpoint.py\n",
      "│   │   └── train_gat-checkpoint.py\n",
      "│   ├── evaluate.py\n",
      "│   └── train_gat.py\n",
      "└── utils\n",
      "    ├── .ipynb_checkpoints\n",
      "    │   ├── data_loader-checkpoint.py\n",
      "    │   ├── feature_select-checkpoint.py\n",
      "    │   └── graph_utils-checkpoint.py\n",
      "    ├── data_loader.py\n",
      "    ├── feature_select.py\n",
      "    └── graph_utils.py\n"
     ]
    }
   ],
   "source": [
    "import os\n",
    "\n",
    "root_dir = '/root/autodl-tmp/snir+gat'\n",
    "def print_tree(root_dir, prefix=\"\"):\n",
    "    entries = sorted(os.listdir(root_dir))\n",
    "    for i, entry in enumerate(entries):\n",
    "        path = os.path.join(root_dir, entry)\n",
    "        connector = \"├── \" if i < len(entries) - 1 else \"└── \"\n",
    "        print(prefix + connector + entry)\n",
    "        if os.path.isdir(path):\n",
    "            extension = \"│   \" if i < len(entries) - 1 else \"    \"\n",
    "            print_tree(path, prefix + extension)\n",
    "print_tree(root_dir, prefix=\"\")"
   ]
  },
  {
   "cell_type": "markdown",
   "id": "39f61d6c-7d9d-421d-85f9-95f2be874067",
   "metadata": {},
   "source": [
    "## 任务2-使用 $\\rho_j$ 调节GAT架构（暂时从偏置入手），做多任务预测（集中`SRS_mannerisms`）\n",
    "\n",
    "> 见`snir+gat`"
   ]
  },
  {
   "cell_type": "code",
   "execution_count": null,
   "id": "0f7fedcf-9c16-4eb4-a355-bf3f20a78cb8",
   "metadata": {},
   "outputs": [],
   "source": []
  }
 ],
 "metadata": {
  "kernelspec": {
   "display_name": "Python 3 (ipykernel)",
   "language": "python",
   "name": "python3"
  },
  "language_info": {
   "codemirror_mode": {
    "name": "ipython",
    "version": 3
   },
   "file_extension": ".py",
   "mimetype": "text/x-python",
   "name": "python",
   "nbconvert_exporter": "python",
   "pygments_lexer": "ipython3",
   "version": "3.8.10"
  },
  "toc-autonumbering": true,
  "toc-showcode": false,
  "toc-showmarkdowntxt": true
 },
 "nbformat": 4,
 "nbformat_minor": 5
}
